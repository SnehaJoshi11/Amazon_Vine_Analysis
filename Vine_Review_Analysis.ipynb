{
  "nbformat": 4,
  "nbformat_minor": 0,
  "metadata": {
    "colab": {
      "name": "Vine_Review_Analysis.ipynb",
      "provenance": [],
      "collapsed_sections": []
    },
    "kernelspec": {
      "name": "python3",
      "display_name": "Python 3"
    },
    "language_info": {
      "name": "python"
    }
  },
  "cells": [
    {
      "cell_type": "code",
      "execution_count": 2,
      "metadata": {
        "colab": {
          "base_uri": "https://localhost:8080/"
        },
        "id": "WffILEs-roc7",
        "outputId": "abf95f15-c4fd-4cf2-a699-87f9851b35fd"
      },
      "outputs": [
        {
          "output_type": "stream",
          "name": "stdout",
          "text": [
            "Get:1 https://cloud.r-project.org/bin/linux/ubuntu bionic-cran40/ InRelease [3,626 B]\n",
            "Ign:2 https://developer.download.nvidia.com/compute/cuda/repos/ubuntu1804/x86_64  InRelease\n",
            "Ign:3 https://developer.download.nvidia.com/compute/machine-learning/repos/ubuntu1804/x86_64  InRelease\n",
            "Hit:4 https://developer.download.nvidia.com/compute/cuda/repos/ubuntu1804/x86_64  Release\n",
            "Hit:5 https://developer.download.nvidia.com/compute/machine-learning/repos/ubuntu1804/x86_64  Release\n",
            "Hit:6 http://archive.ubuntu.com/ubuntu bionic InRelease\n",
            "Get:7 http://security.ubuntu.com/ubuntu bionic-security InRelease [88.7 kB]\n",
            "Hit:8 http://ppa.launchpad.net/c2d4u.team/c2d4u4.0+/ubuntu bionic InRelease\n",
            "Get:10 http://archive.ubuntu.com/ubuntu bionic-updates InRelease [88.7 kB]\n",
            "Hit:12 http://ppa.launchpad.net/cran/libgit2/ubuntu bionic InRelease\n",
            "Hit:13 http://ppa.launchpad.net/deadsnakes/ppa/ubuntu bionic InRelease\n",
            "Get:14 http://archive.ubuntu.com/ubuntu bionic-backports InRelease [74.6 kB]\n",
            "Get:15 http://security.ubuntu.com/ubuntu bionic-security/universe amd64 Packages [1,478 kB]\n",
            "Hit:16 http://ppa.launchpad.net/graphics-drivers/ppa/ubuntu bionic InRelease\n",
            "Get:17 http://archive.ubuntu.com/ubuntu bionic-updates/universe amd64 Packages [2,256 kB]\n",
            "Get:18 http://archive.ubuntu.com/ubuntu bionic-updates/main amd64 Packages [3,067 kB]\n",
            "Get:19 http://security.ubuntu.com/ubuntu bionic-security/main amd64 Packages [2,628 kB]\n",
            "Fetched 9,685 kB in 4s (2,593 kB/s)\n",
            "Reading package lists... Done\n"
          ]
        }
      ],
      "source": [
        "import os\n",
        "# Find the latest version of spark 3.0 from http://www.apache.org/dist/spark/ and enter as the spark version\n",
        "# For example:\n",
        "# spark_version = 'spark-3.0.3'\n",
        "spark_version = 'spark-3.0.3'\n",
        "os.environ['SPARK_VERSION']=spark_version\n",
        "\n",
        "# Install Spark and Java\n",
        "!apt-get update\n",
        "!apt-get install openjdk-11-jdk-headless -qq > /dev/null\n",
        "!wget -q http://www.apache.org/dist/spark/$SPARK_VERSION/$SPARK_VERSION-bin-hadoop2.7.tgz\n",
        "!tar xf $SPARK_VERSION-bin-hadoop2.7.tgz\n",
        "!pip install -q findspark\n",
        "\n",
        "# Set Environment Variables\n",
        "import os\n",
        "os.environ[\"JAVA_HOME\"] = \"/usr/lib/jvm/java-11-openjdk-amd64\"\n",
        "os.environ[\"SPARK_HOME\"] = f\"/content/{spark_version}-bin-hadoop2.7\"\n",
        "\n",
        "# Start a SparkSession\n",
        "import findspark\n",
        "findspark.init()"
      ]
    },
    {
      "cell_type": "code",
      "source": [
        "# Download the Postgres driver that will allow Spark to interact with Postgres.\n",
        "!wget https://jdbc.postgresql.org/download/postgresql-42.2.16.jar"
      ],
      "metadata": {
        "colab": {
          "base_uri": "https://localhost:8080/"
        },
        "id": "v6dJj7eBsmSz",
        "outputId": "fa831046-069d-4d88-b23c-d818f5fef8b4"
      },
      "execution_count": 3,
      "outputs": [
        {
          "output_type": "stream",
          "name": "stdout",
          "text": [
            "--2022-03-11 16:13:49--  https://jdbc.postgresql.org/download/postgresql-42.2.16.jar\n",
            "Resolving jdbc.postgresql.org (jdbc.postgresql.org)... 72.32.157.228, 2001:4800:3e1:1::228\n",
            "Connecting to jdbc.postgresql.org (jdbc.postgresql.org)|72.32.157.228|:443... connected.\n",
            "HTTP request sent, awaiting response... 200 OK\n",
            "Length: 1002883 (979K) [application/java-archive]\n",
            "Saving to: ‘postgresql-42.2.16.jar’\n",
            "\n",
            "postgresql-42.2.16. 100%[===================>] 979.38K  1.22MB/s    in 0.8s    \n",
            "\n",
            "2022-03-11 16:13:51 (1.22 MB/s) - ‘postgresql-42.2.16.jar’ saved [1002883/1002883]\n",
            "\n"
          ]
        }
      ]
    },
    {
      "cell_type": "code",
      "source": [
        "from pyspark.sql import SparkSession\n",
        "spark = SparkSession.builder.appName(\"BigData-Challenge\").config(\"spark.driver.extraClassPath\",\"/content/postgresql-42.2.16.jar\").getOrCreate()"
      ],
      "metadata": {
        "id": "horo6suOspZI"
      },
      "execution_count": 4,
      "outputs": []
    },
    {
      "cell_type": "code",
      "source": [
        "from pyspark import SparkFiles\n",
        "url = \"https://s3.amazonaws.com/amazon-reviews-pds/tsv/amazon_reviews_us_Grocery_v1_00.tsv.gz\"\n",
        "spark.sparkContext.addFile(url)\n",
        "df = spark.read.option(\"encoding\", \"UTF-8\").csv(SparkFiles.get(\"\"), sep=\"\\t\", header=True, inferSchema=True)\n",
        "df.show()"
      ],
      "metadata": {
        "colab": {
          "base_uri": "https://localhost:8080/"
        },
        "id": "L441wxhdsvHV",
        "outputId": "9fa1231a-b3a2-4a40-8fdc-3eaaa102ea0e"
      },
      "execution_count": 5,
      "outputs": [
        {
          "output_type": "stream",
          "name": "stdout",
          "text": [
            "+-----------+-----------+--------------+----------+--------------+--------------------+----------------+-----------+-------------+-----------+----+-----------------+--------------------+--------------------+-----------+\n",
            "|marketplace|customer_id|     review_id|product_id|product_parent|       product_title|product_category|star_rating|helpful_votes|total_votes|vine|verified_purchase|     review_headline|         review_body|review_date|\n",
            "+-----------+-----------+--------------+----------+--------------+--------------------+----------------+-----------+-------------+-----------+----+-----------------+--------------------+--------------------+-----------+\n",
            "|         US|   42521656|R26MV8D0KG6QI6|B000SAQCWC|     159713740|The Cravings Plac...|         Grocery|          5|            0|          0|   N|                Y|Using these for y...|As a family aller...| 2015-08-31|\n",
            "|         US|   12049833|R1OF8GP57AQ1A0|B00509LVIQ|     138680402|Mauna Loa Macadam...|         Grocery|          5|            0|          0|   N|                Y|           Wonderful|My favorite nut. ...| 2015-08-31|\n",
            "|         US|     107642|R3VDC1QB6MC4ZZ|B00KHXESLC|     252021703|Organic Matcha Gr...|         Grocery|          5|            0|          0|   N|                N|          Five Stars|This green tea ta...| 2015-08-31|\n",
            "|         US|    6042304|R12FA3DCF8F9ER|B000F8JIIC|     752728342|15oz Raspberry Ly...|         Grocery|          5|            0|          0|   N|                Y|          Five Stars|I love Melissa's ...| 2015-08-31|\n",
            "|         US|   18123821| RTWHVNV6X4CNJ|B004ZWR9RQ|     552138758|Stride Spark Kine...|         Grocery|          5|            0|          0|   N|                Y|          Five Stars|                good| 2015-08-31|\n",
            "|         US|   23649464| RIG9AWFOGRDVO|B00AL6QBZ6|     681475449|Herr's Popcorn Ho...|         Grocery|          2|            1|          1|   N|                Y|           Not Happy|The popcorn was s...| 2015-08-31|\n",
            "|         US|   32778285|R1S1XSG4ZCHDGS|B00BCNSTRA|     578681693|Larabar uber, 1.4...|         Grocery|          5|            1|          1|   N|                Y|          Five Stars|Love these bars, ...| 2015-08-31|\n",
            "|         US|   46612941| RB15NBVY5ELVW|B0089MM2BG|     350968436|Shirakiku Soba No...|         Grocery|          5|            2|          2|   N|                Y|          Five Stars|Love the taste bu...| 2015-08-31|\n",
            "|         US|   31525399| R56358YM1ZJ7I|B00Y1C9770|     729982780|Jif Chocolate Nut...|         Grocery|          5|            0|          0|   N|                N|      Great tasting!|I'm a member of t...| 2015-08-31|\n",
            "|         US|   19624355|R1ODXB3C9UP3NL|B00J074W94|       2499702|Orgain Organic Pl...|         Grocery|          1|            1|          3|   N|                N|Disgusting now an...|Used to be a dece...| 2015-08-31|\n",
            "|         US|   31910375|R155ZMVLD5C9BP|B0001VKKOO|     189938205|Bragg - All Natur...|         Grocery|          4|            3|          4|   N|                Y|If you like soy s...|I cannot tell the...| 2015-08-31|\n",
            "|         US|   12816533|R2IXW43PUNYM0G|B007TGH4CK|     398128262|Wholesome Sweeten...|         Grocery|          4|            1|          1|   N|                Y|          Four Stars|Good flavor and s...| 2015-08-31|\n",
            "|         US|   23208852|R3LYEG1QCK2BG0|B002HMN6SC|      18057786|Kadoya Pure Sesam...|         Grocery|          5|            0|          0|   N|                Y|          Five Stars|Great to use in r...| 2015-08-31|\n",
            "|         US|   17348415|R20LREICPM3YH0|B004NRHAZO|     595020880|Nishiki Premium B...|         Grocery|          5|            0|          0|   N|                Y|          Five Stars|It's rice. Have e...| 2015-08-31|\n",
            "|         US|   46763945| RHA5COCZDVB13|B00V7LJIG8|     173088090|Everly Passion Fr...|         Grocery|          5|            0|          0|   N|                Y|          Five Stars|Very good tasting...| 2015-08-31|\n",
            "|         US|     961747| RT9BGRQANMANE|B0000E2YFI|     120269621|Charms Blue Razzb...|         Grocery|          5|            0|          0|   N|                Y|           Excellent|They were perfect...| 2015-08-31|\n",
            "|         US|   16888081| ROD1TU5JCS7JQ|B00VK5SQOQ|     204992966|Food Should Taste...|         Grocery|          5|            0|          0|   N|                N|              YUMMY!|Wow, these are so...| 2015-08-31|\n",
            "|         US|   22765168|R3T6TTD2IN0EFZ|B00XDXMLL2|     971154239|Skippy Creamy Pea...|         Grocery|          1|            4|          4|   N|                N|1 Out Of 5 Of My ...|I bought this fro...| 2015-08-31|\n",
            "|         US|   36328996|R1OCUGZ444NKV3|B00MN4KX3A|     787182505|Celestial Seasoni...|         Grocery|          5|            5|          5|   N|                Y|delicious tea and...|I love this tea, ...| 2015-08-31|\n",
            "|         US|   27092724| RCQQGWTC4J4TZ|B004NTCE1M|     653570135|Nutiva Organic Vi...|         Grocery|          4|            0|          0|   N|                Y|    Best coconut oil|I have used servo...| 2015-08-31|\n",
            "+-----------+-----------+--------------+----------+--------------+--------------------+----------------+-----------+-------------+-----------+----+-----------------+--------------------+--------------------+-----------+\n",
            "only showing top 20 rows\n",
            "\n"
          ]
        }
      ]
    },
    {
      "cell_type": "code",
      "source": [
        "# Create the vine_table. DataFrame\n",
        "vine_df = df.select([\"review_id\", \"star_rating\", \"helpful_votes\", \"total_votes\", \"vine\", \"verified_purchase\"])\n",
        "vine_df.show()"
      ],
      "metadata": {
        "colab": {
          "base_uri": "https://localhost:8080/"
        },
        "id": "OlRW67Jfs2W2",
        "outputId": "6f9b83c2-67fe-481a-e350-5f011ff5731e"
      },
      "execution_count": 6,
      "outputs": [
        {
          "output_type": "stream",
          "name": "stdout",
          "text": [
            "+--------------+-----------+-------------+-----------+----+-----------------+\n",
            "|     review_id|star_rating|helpful_votes|total_votes|vine|verified_purchase|\n",
            "+--------------+-----------+-------------+-----------+----+-----------------+\n",
            "|R26MV8D0KG6QI6|          5|            0|          0|   N|                Y|\n",
            "|R1OF8GP57AQ1A0|          5|            0|          0|   N|                Y|\n",
            "|R3VDC1QB6MC4ZZ|          5|            0|          0|   N|                N|\n",
            "|R12FA3DCF8F9ER|          5|            0|          0|   N|                Y|\n",
            "| RTWHVNV6X4CNJ|          5|            0|          0|   N|                Y|\n",
            "| RIG9AWFOGRDVO|          2|            1|          1|   N|                Y|\n",
            "|R1S1XSG4ZCHDGS|          5|            1|          1|   N|                Y|\n",
            "| RB15NBVY5ELVW|          5|            2|          2|   N|                Y|\n",
            "| R56358YM1ZJ7I|          5|            0|          0|   N|                N|\n",
            "|R1ODXB3C9UP3NL|          1|            1|          3|   N|                N|\n",
            "|R155ZMVLD5C9BP|          4|            3|          4|   N|                Y|\n",
            "|R2IXW43PUNYM0G|          4|            1|          1|   N|                Y|\n",
            "|R3LYEG1QCK2BG0|          5|            0|          0|   N|                Y|\n",
            "|R20LREICPM3YH0|          5|            0|          0|   N|                Y|\n",
            "| RHA5COCZDVB13|          5|            0|          0|   N|                Y|\n",
            "| RT9BGRQANMANE|          5|            0|          0|   N|                Y|\n",
            "| ROD1TU5JCS7JQ|          5|            0|          0|   N|                N|\n",
            "|R3T6TTD2IN0EFZ|          1|            4|          4|   N|                N|\n",
            "|R1OCUGZ444NKV3|          5|            5|          5|   N|                Y|\n",
            "| RCQQGWTC4J4TZ|          4|            0|          0|   N|                Y|\n",
            "+--------------+-----------+-------------+-----------+----+-----------------+\n",
            "only showing top 20 rows\n",
            "\n"
          ]
        }
      ]
    },
    {
      "cell_type": "code",
      "source": [
        "# Step 1: Create a new DF: condition => total_votes>=20\n",
        "filtered_vine_df = vine_df.filter('total_votes>=20')\n",
        "filtered_vine_df.show()"
      ],
      "metadata": {
        "colab": {
          "base_uri": "https://localhost:8080/"
        },
        "id": "tB1AdOUZs5oZ",
        "outputId": "9d8924d3-be0b-4e58-889b-69f8a22315fa"
      },
      "execution_count": 7,
      "outputs": [
        {
          "output_type": "stream",
          "name": "stdout",
          "text": [
            "+--------------+-----------+-------------+-----------+----+-----------------+\n",
            "|     review_id|star_rating|helpful_votes|total_votes|vine|verified_purchase|\n",
            "+--------------+-----------+-------------+-----------+----+-----------------+\n",
            "|R1OAZUG90XPU2U|          5|          250|        274|   N|                Y|\n",
            "|R23VPTUJ8I8NR5|          1|           28|         30|   N|                Y|\n",
            "|R33VIWRD2X5IA9|          1|            0|         20|   N|                Y|\n",
            "| R6SRJFJ5YH4UM|          5|           23|         26|   N|                Y|\n",
            "|R3DOS07BIMP4DJ|          2|           32|         42|   N|                N|\n",
            "|R26UFXLLQ2N0CR|          1|            0|         20|   N|                Y|\n",
            "|R30PGWX4HN1CFG|          1|           85|         95|   N|                Y|\n",
            "|R2XASGYIENUHQO|          5|           28|         32|   N|                Y|\n",
            "|R34UQPQCTSKQK9|          5|           23|         26|   N|                Y|\n",
            "|R2M6WNM2OZZHKS|          1|           20|         22|   N|                N|\n",
            "| RO6JNMUJDE1LP|          5|           37|         50|   N|                N|\n",
            "|R1WNL4OIMSKDBR|          5|           35|         36|   N|                Y|\n",
            "| RDGWZ3U8LQZE6|          2|           48|         54|   N|                Y|\n",
            "|R3HFIKVOUDHT4I|          3|           64|         67|   N|                N|\n",
            "| R22M0N2OZSICN|          5|           21|         23|   N|                Y|\n",
            "|R1E43139TRHB5T|          5|           22|         22|   N|                Y|\n",
            "|R1L40ST6C2UJHK|          5|          262|        272|   N|                Y|\n",
            "|R1XISUX6DDSXKZ|          5|           37|         41|   N|                Y|\n",
            "|R35MWO8UIXOA37|          1|           20|         22|   N|                Y|\n",
            "|R1RZ0G02ASP7SF|          2|           35|         43|   N|                Y|\n",
            "+--------------+-----------+-------------+-----------+----+-----------------+\n",
            "only showing top 20 rows\n",
            "\n"
          ]
        }
      ]
    },
    {
      "cell_type": "code",
      "source": [
        "# Step 2: Create a new DF: condition => helpful_votes/total_votes >= 50%\n",
        "helpful_votes50_df = filtered_vine_df.withColumn('grater50', filtered_vine_df['helpful_votes'] / filtered_vine_df['total_votes']).filter('grater50>=0.5')\n",
        "helpful_votes50_df.show()"
      ],
      "metadata": {
        "colab": {
          "base_uri": "https://localhost:8080/"
        },
        "id": "RKWGmfWDtBnw",
        "outputId": "7ed62b54-b5f9-4918-890b-d92acf643e67"
      },
      "execution_count": 8,
      "outputs": [
        {
          "output_type": "stream",
          "name": "stdout",
          "text": [
            "+--------------+-----------+-------------+-----------+----+-----------------+------------------+\n",
            "|     review_id|star_rating|helpful_votes|total_votes|vine|verified_purchase|          grater50|\n",
            "+--------------+-----------+-------------+-----------+----+-----------------+------------------+\n",
            "|R1OAZUG90XPU2U|          5|          250|        274|   N|                Y|0.9124087591240876|\n",
            "|R23VPTUJ8I8NR5|          1|           28|         30|   N|                Y|0.9333333333333333|\n",
            "| R6SRJFJ5YH4UM|          5|           23|         26|   N|                Y|0.8846153846153846|\n",
            "|R3DOS07BIMP4DJ|          2|           32|         42|   N|                N|0.7619047619047619|\n",
            "|R30PGWX4HN1CFG|          1|           85|         95|   N|                Y|0.8947368421052632|\n",
            "|R2XASGYIENUHQO|          5|           28|         32|   N|                Y|             0.875|\n",
            "|R34UQPQCTSKQK9|          5|           23|         26|   N|                Y|0.8846153846153846|\n",
            "|R2M6WNM2OZZHKS|          1|           20|         22|   N|                N|0.9090909090909091|\n",
            "| RO6JNMUJDE1LP|          5|           37|         50|   N|                N|              0.74|\n",
            "|R1WNL4OIMSKDBR|          5|           35|         36|   N|                Y|0.9722222222222222|\n",
            "| RDGWZ3U8LQZE6|          2|           48|         54|   N|                Y|0.8888888888888888|\n",
            "|R3HFIKVOUDHT4I|          3|           64|         67|   N|                N|0.9552238805970149|\n",
            "| R22M0N2OZSICN|          5|           21|         23|   N|                Y|0.9130434782608695|\n",
            "|R1E43139TRHB5T|          5|           22|         22|   N|                Y|               1.0|\n",
            "|R1L40ST6C2UJHK|          5|          262|        272|   N|                Y|0.9632352941176471|\n",
            "|R1XISUX6DDSXKZ|          5|           37|         41|   N|                Y|0.9024390243902439|\n",
            "|R35MWO8UIXOA37|          1|           20|         22|   N|                Y|0.9090909090909091|\n",
            "|R1RZ0G02ASP7SF|          2|           35|         43|   N|                Y| 0.813953488372093|\n",
            "|R10HZ77HAWVJH6|          5|           19|         22|   N|                Y|0.8636363636363636|\n",
            "|R1PI04EDGLLCXV|          5|           25|         28|   N|                Y|0.8928571428571429|\n",
            "+--------------+-----------+-------------+-----------+----+-----------------+------------------+\n",
            "only showing top 20 rows\n",
            "\n"
          ]
        }
      ]
    },
    {
      "cell_type": "code",
      "source": [
        "# Step 3: Create a new DF: condition => vine=='Y'\n",
        "vine_Y_df = helpful_votes50_df.filter(helpful_votes50_df['vine'] == 'Y')\n",
        "vine_Y_df.show()"
      ],
      "metadata": {
        "colab": {
          "base_uri": "https://localhost:8080/"
        },
        "id": "aAGqu4oPtF3d",
        "outputId": "1ccf9b34-dab6-4dbd-c5cc-74b1ff3265c7"
      },
      "execution_count": 9,
      "outputs": [
        {
          "output_type": "stream",
          "name": "stdout",
          "text": [
            "+--------------+-----------+-------------+-----------+----+-----------------+------------------+\n",
            "|     review_id|star_rating|helpful_votes|total_votes|vine|verified_purchase|          grater50|\n",
            "+--------------+-----------+-------------+-----------+----+-----------------+------------------+\n",
            "|R3MKO875WGIEBJ|          5|           34|         37|   Y|                N| 0.918918918918919|\n",
            "|R3OPNTK61FQ7MP|          5|           32|         37|   Y|                N|0.8648648648648649|\n",
            "| RMDRU8I773X5U|          4|           22|         25|   Y|                N|              0.88|\n",
            "| RR83RGWFEFZCL|          3|           61|         64|   Y|                N|          0.953125|\n",
            "|R2TMZ7GV8SPIRV|          4|           23|         23|   Y|                N|               1.0|\n",
            "| RX88JLUIFA4Q2|          4|           84|         87|   Y|                Y|0.9655172413793104|\n",
            "| RV3AHTDRHDH7R|          5|          253|        258|   Y|                N|0.9806201550387597|\n",
            "|R13EGJI8C8YJ4Y|          5|           19|         20|   Y|                N|              0.95|\n",
            "| R9SNSQTK4TJOG|          2|           11|         20|   Y|                N|              0.55|\n",
            "|R1A76AK493C8P8|          5|           83|         90|   Y|                N|0.9222222222222223|\n",
            "|R3LOTAAVOZ9D1L|          3|           19|         26|   Y|                N|0.7307692307692307|\n",
            "|R1BRN47DX8UXA7|          5|          154|        159|   Y|                N|0.9685534591194969|\n",
            "|R13CEXESMDKT3D|          3|           33|         36|   Y|                N|0.9166666666666666|\n",
            "|R1OM89J7BP8MUZ|          1|           23|         29|   Y|                N|0.7931034482758621|\n",
            "| RZP9LBF95AEHO|          3|           56|         58|   Y|                N|0.9655172413793104|\n",
            "|R3V9P61EYXDNRV|          5|           51|         54|   Y|                N|0.9444444444444444|\n",
            "|R2BDT05RK7TOJ9|          5|           21|         22|   Y|                N|0.9545454545454546|\n",
            "|R2PFVGR88KV91R|          2|           16|         23|   Y|                N|0.6956521739130435|\n",
            "|R3BV8N52HPNJJM|          4|           18|         20|   Y|                N|               0.9|\n",
            "|R2GOJRL2PW4JNM|          4|           24|         30|   Y|                N|               0.8|\n",
            "+--------------+-----------+-------------+-----------+----+-----------------+------------------+\n",
            "only showing top 20 rows\n",
            "\n"
          ]
        }
      ]
    },
    {
      "cell_type": "code",
      "source": [
        "# Step 4: Create a new DF: condition => vine=='N'\n",
        "vine_N_df = helpful_votes50_df.filter(helpful_votes50_df['vine'] == 'N')\n",
        "vine_N_df.show()"
      ],
      "metadata": {
        "colab": {
          "base_uri": "https://localhost:8080/"
        },
        "id": "vnb0u8nltJWj",
        "outputId": "0472c7d8-750f-40d7-f95c-92c129966d52"
      },
      "execution_count": 10,
      "outputs": [
        {
          "output_type": "stream",
          "name": "stdout",
          "text": [
            "+--------------+-----------+-------------+-----------+----+-----------------+------------------+\n",
            "|     review_id|star_rating|helpful_votes|total_votes|vine|verified_purchase|          grater50|\n",
            "+--------------+-----------+-------------+-----------+----+-----------------+------------------+\n",
            "|R1OAZUG90XPU2U|          5|          250|        274|   N|                Y|0.9124087591240876|\n",
            "|R23VPTUJ8I8NR5|          1|           28|         30|   N|                Y|0.9333333333333333|\n",
            "| R6SRJFJ5YH4UM|          5|           23|         26|   N|                Y|0.8846153846153846|\n",
            "|R3DOS07BIMP4DJ|          2|           32|         42|   N|                N|0.7619047619047619|\n",
            "|R30PGWX4HN1CFG|          1|           85|         95|   N|                Y|0.8947368421052632|\n",
            "|R2XASGYIENUHQO|          5|           28|         32|   N|                Y|             0.875|\n",
            "|R34UQPQCTSKQK9|          5|           23|         26|   N|                Y|0.8846153846153846|\n",
            "|R2M6WNM2OZZHKS|          1|           20|         22|   N|                N|0.9090909090909091|\n",
            "| RO6JNMUJDE1LP|          5|           37|         50|   N|                N|              0.74|\n",
            "|R1WNL4OIMSKDBR|          5|           35|         36|   N|                Y|0.9722222222222222|\n",
            "| RDGWZ3U8LQZE6|          2|           48|         54|   N|                Y|0.8888888888888888|\n",
            "|R3HFIKVOUDHT4I|          3|           64|         67|   N|                N|0.9552238805970149|\n",
            "| R22M0N2OZSICN|          5|           21|         23|   N|                Y|0.9130434782608695|\n",
            "|R1E43139TRHB5T|          5|           22|         22|   N|                Y|               1.0|\n",
            "|R1L40ST6C2UJHK|          5|          262|        272|   N|                Y|0.9632352941176471|\n",
            "|R1XISUX6DDSXKZ|          5|           37|         41|   N|                Y|0.9024390243902439|\n",
            "|R35MWO8UIXOA37|          1|           20|         22|   N|                Y|0.9090909090909091|\n",
            "|R1RZ0G02ASP7SF|          2|           35|         43|   N|                Y| 0.813953488372093|\n",
            "|R10HZ77HAWVJH6|          5|           19|         22|   N|                Y|0.8636363636363636|\n",
            "|R1PI04EDGLLCXV|          5|           25|         28|   N|                Y|0.8928571428571429|\n",
            "+--------------+-----------+-------------+-----------+----+-----------------+------------------+\n",
            "only showing top 20 rows\n",
            "\n"
          ]
        }
      ]
    },
    {
      "cell_type": "code",
      "source": [
        "# Step 5.1: vine_reviews_YES: 'total number of reviews' & 'number of 5-stars reviews' & '% of 5-stars reviews'\n",
        "# Step 5.1.a: total number of reviews\n",
        "vineY_reviews_TOTAL_df = vine_Y_df.agg({'review_id':'count'}).withColumnRenamed(\"count(review_id)\", \"Total_Vine_Reviews\")\n",
        "vineY_reviews_TOTAL_df.show()"
      ],
      "metadata": {
        "colab": {
          "base_uri": "https://localhost:8080/"
        },
        "id": "7SwMciJDtMVW",
        "outputId": "b2176c58-58cc-4818-a802-bfc17b5b3b71"
      },
      "execution_count": 11,
      "outputs": [
        {
          "output_type": "stream",
          "name": "stdout",
          "text": [
            "+------------------+\n",
            "|Total_Vine_Reviews|\n",
            "+------------------+\n",
            "|                61|\n",
            "+------------------+\n",
            "\n"
          ]
        }
      ]
    },
    {
      "cell_type": "code",
      "source": [
        "# Step 5.1.b: 5-star revievs \n",
        "vineY_reviews_5STAR_df = vine_Y_df.filter('star_rating==5').agg({'star_rating':'count'}).withColumnRenamed(\"count(star_rating)\", \"5-stars_Vine_Reviews\")\n",
        "vineY_reviews_5STAR_df.show()"
      ],
      "metadata": {
        "colab": {
          "base_uri": "https://localhost:8080/"
        },
        "id": "46ODiMEZtQfd",
        "outputId": "2907349a-38e1-41b7-b785-c432ad695d5c"
      },
      "execution_count": 12,
      "outputs": [
        {
          "output_type": "stream",
          "name": "stdout",
          "text": [
            "+--------------------+\n",
            "|5-stars_Vine_Reviews|\n",
            "+--------------------+\n",
            "|                  20|\n",
            "+--------------------+\n",
            "\n"
          ]
        }
      ]
    },
    {
      "cell_type": "code",
      "source": [
        "vineY_reviews_percentage = vineY_reviews_5STAR_df.collect()[0]['5-stars_Vine_Reviews'] / vineY_reviews_TOTAL_df.collect()[0]['Total_Vine_Reviews'] * 100\n",
        "round(vineY_reviews_percentage,2)"
      ],
      "metadata": {
        "colab": {
          "base_uri": "https://localhost:8080/"
        },
        "id": "NfLoLBwAtT1B",
        "outputId": "8d789388-5dde-4634-b95d-331d087bba4a"
      },
      "execution_count": 13,
      "outputs": [
        {
          "output_type": "execute_result",
          "data": {
            "text/plain": [
              "32.79"
            ]
          },
          "metadata": {},
          "execution_count": 13
        }
      ]
    },
    {
      "cell_type": "code",
      "source": [
        "# Step 5.2: vine_reviews_NO: 'total number of reviews' & 'number of 5-stars reviews' & '% of 5-stars reviews '\n",
        "# Step 5.2.a: total number of reviews\n",
        "vineN_reviews_TOTAL_df = vine_N_df.agg({'review_id':'count'}).withColumnRenamed(\"count(review_id)\", \"Total_non-Vine_Reviews\")\n",
        "vineN_reviews_TOTAL_df.show()"
      ],
      "metadata": {
        "colab": {
          "base_uri": "https://localhost:8080/"
        },
        "id": "CkxU4TAbtYkD",
        "outputId": "c1c1c241-a0b0-43e6-a005-de211ba991d7"
      },
      "execution_count": 14,
      "outputs": [
        {
          "output_type": "stream",
          "name": "stdout",
          "text": [
            "+----------------------+\n",
            "|Total_non-Vine_Reviews|\n",
            "+----------------------+\n",
            "|                 28287|\n",
            "+----------------------+\n",
            "\n"
          ]
        }
      ]
    },
    {
      "cell_type": "code",
      "source": [
        "# Step 5.2.a: number of 5-stars reviews\n",
        "vineN_reviews_5STAR_df = vine_N_df.filter('star_rating==5').agg({'star_rating':'count'}).withColumnRenamed(\"count(star_rating)\", \"5-stars_non-Vine_Reviews\")\n",
        "vineN_reviews_5STAR_df.show()"
      ],
      "metadata": {
        "colab": {
          "base_uri": "https://localhost:8080/"
        },
        "id": "-O5Ka-Z2tb-z",
        "outputId": "30b039d0-0152-4afc-b837-9d1f4064e43d"
      },
      "execution_count": 15,
      "outputs": [
        {
          "output_type": "stream",
          "name": "stdout",
          "text": [
            "+------------------------+\n",
            "|5-stars_non-Vine_Reviews|\n",
            "+------------------------+\n",
            "|                   15689|\n",
            "+------------------------+\n",
            "\n"
          ]
        }
      ]
    },
    {
      "cell_type": "code",
      "source": [
        "vineN_reviews_percentage = vineN_reviews_5STAR_df.collect()[0]['5-stars_non-Vine_Reviews'] / vineN_reviews_TOTAL_df.collect()[0]['Total_non-Vine_Reviews'] * 100\n",
        "round(vineN_reviews_percentage,2)"
      ],
      "metadata": {
        "colab": {
          "base_uri": "https://localhost:8080/"
        },
        "id": "Grze6kFNtg4Q",
        "outputId": "c8193b7f-0b70-45f5-ca44-e2b96b431931"
      },
      "execution_count": 16,
      "outputs": [
        {
          "output_type": "execute_result",
          "data": {
            "text/plain": [
              "55.46"
            ]
          },
          "metadata": {},
          "execution_count": 16
        }
      ]
    },
    {
      "cell_type": "code",
      "source": [
        "# Create data frame for % results (5-stars rating % review)\n",
        "percentage_df = spark.createDataFrame([\n",
        "                                       (32.79, 55.46)],\n",
        "                                      ['Percentage Vine Reviews', \"Percentage non-Vine Reviews\"])\n",
        "percentage_df.show()"
      ],
      "metadata": {
        "colab": {
          "base_uri": "https://localhost:8080/"
        },
        "id": "vFDZfLAstnuW",
        "outputId": "aa624cbb-4852-4495-b975-8a3f0dc932fe"
      },
      "execution_count": 17,
      "outputs": [
        {
          "output_type": "stream",
          "name": "stdout",
          "text": [
            "+-----------------------+---------------------------+\n",
            "|Percentage Vine Reviews|Percentage non-Vine Reviews|\n",
            "+-----------------------+---------------------------+\n",
            "|                  32.79|                      55.46|\n",
            "+-----------------------+---------------------------+\n",
            "\n"
          ]
        }
      ]
    },
    {
      "cell_type": "code",
      "source": [
        "# Positivity Bias - additional calculations\n",
        "# Vine Reviews\n",
        "all_stars_YES = vine_Y_df.groupby(\"star_rating\").agg({\"review_id\":\"count\"}).withColumnRenamed(\"count(review_id)\", \"Count of Reviews Vine\")\n",
        "all_stars_YES.show()"
      ],
      "metadata": {
        "colab": {
          "base_uri": "https://localhost:8080/"
        },
        "id": "re5jpfn-tqse",
        "outputId": "a9d3fccd-a467-4b74-ef6c-ad49d2f59557"
      },
      "execution_count": 22,
      "outputs": [
        {
          "output_type": "stream",
          "name": "stdout",
          "text": [
            "+-----------+---------------------+\n",
            "|star_rating|Count of Reviews Vine|\n",
            "+-----------+---------------------+\n",
            "|          1|                    7|\n",
            "|          3|                   11|\n",
            "|          5|                   20|\n",
            "|          4|                   17|\n",
            "|          2|                    6|\n",
            "+-----------+---------------------+\n",
            "\n"
          ]
        }
      ]
    },
    {
      "cell_type": "code",
      "source": [
        "# Vine Reviews (cont)\n",
        "import pyspark.sql.functions as func\n",
        "all_stars_YES_percentage = all_stars_YES.withColumn('% of total', func.round(all_stars_YES['Count of Reviews Vine']/ \\\n",
        "                                                (vineY_reviews_TOTAL_df.collect()[0]['Total_Vine_Reviews']/100), 2)) \\\n",
        "                                                .orderBy(all_stars_YES['star_rating'].asc()).show()"
      ],
      "metadata": {
        "colab": {
          "base_uri": "https://localhost:8080/"
        },
        "id": "mtWtmrH3uFLX",
        "outputId": "7a436643-22e4-4320-fc9c-712018b53f98"
      },
      "execution_count": 23,
      "outputs": [
        {
          "output_type": "stream",
          "name": "stdout",
          "text": [
            "+-----------+---------------------+----------+\n",
            "|star_rating|Count of Reviews Vine|% of total|\n",
            "+-----------+---------------------+----------+\n",
            "|          1|                    7|     11.48|\n",
            "|          2|                    6|      9.84|\n",
            "|          3|                   11|     18.03|\n",
            "|          4|                   17|     27.87|\n",
            "|          5|                   20|     32.79|\n",
            "+-----------+---------------------+----------+\n",
            "\n"
          ]
        }
      ]
    },
    {
      "cell_type": "code",
      "source": [
        "# non-Vine Reviews\n",
        "all_stars_NO = vine_N_df.groupby(\"star_rating\").agg({\"review_id\":\"count\"}).withColumnRenamed(\"count(review_id)\", \"Count of Reviews non-Vine\")\n",
        "all_stars_NO.show()"
      ],
      "metadata": {
        "colab": {
          "base_uri": "https://localhost:8080/"
        },
        "id": "aD6dDIOeuIF8",
        "outputId": "a827a654-e0c9-4f43-bf25-446b09920514"
      },
      "execution_count": 25,
      "outputs": [
        {
          "output_type": "stream",
          "name": "stdout",
          "text": [
            "+-----------+-------------------------+\n",
            "|star_rating|Count of Reviews non-Vine|\n",
            "+-----------+-------------------------+\n",
            "|          1|                     6412|\n",
            "|          3|                     1931|\n",
            "|          5|                    15689|\n",
            "|          4|                     2600|\n",
            "|          2|                     1655|\n",
            "+-----------+-------------------------+\n",
            "\n"
          ]
        }
      ]
    },
    {
      "cell_type": "code",
      "source": [
        "# non-Vine Reviews (cont)\n",
        "all_stars_NO_percentage = all_stars_NO.withColumn('% of total', func.round(all_stars_NO['Count of Reviews non-Vine']/ \\\n",
        "                                            (vineN_reviews_TOTAL_df.collect()[0]['Total_non-Vine_Reviews']/100), 2))  \\\n",
        "                                            .orderBy(all_stars_NO['star_rating'].asc()).show()\n"
      ],
      "metadata": {
        "colab": {
          "base_uri": "https://localhost:8080/"
        },
        "id": "FqCNICn0uMD7",
        "outputId": "61fea439-92c1-4ce6-f85c-3253d8e8c824"
      },
      "execution_count": 29,
      "outputs": [
        {
          "output_type": "stream",
          "name": "stdout",
          "text": [
            "+-----------+-------------------------+----------+\n",
            "|star_rating|Count of Reviews non-Vine|% of total|\n",
            "+-----------+-------------------------+----------+\n",
            "|          1|                     6412|     22.67|\n",
            "|          2|                     1655|      5.85|\n",
            "|          3|                     1931|      6.83|\n",
            "|          4|                     2600|      9.19|\n",
            "|          5|                    15689|     55.46|\n",
            "+-----------+-------------------------+----------+\n",
            "\n"
          ]
        }
      ]
    }
  ]
}